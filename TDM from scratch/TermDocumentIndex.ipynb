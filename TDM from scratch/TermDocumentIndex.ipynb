{
 "cells": [
  {
   "cell_type": "code",
   "execution_count": 1,
   "metadata": {},
   "outputs": [],
   "source": [
    "import glob\n",
    "import pandas as pd\n",
    "from sklearn.feature_extraction.text import CountVectorizer\n",
    "import re"
   ]
  },
  {
   "cell_type": "code",
   "execution_count": 2,
   "metadata": {},
   "outputs": [
    {
     "name": "stdout",
     "output_type": "stream",
     "text": [
      "['test.txt', 'test1.txt']\n"
     ]
    }
   ],
   "source": [
    "files = glob.glob(\"*.txt\")\n",
    "print(files)\n",
    "newcont1=[]\n",
    "newcont=[]\n",
    "newst=''\n",
    "wf={}"
   ]
  },
  {
   "cell_type": "code",
   "execution_count": 3,
   "metadata": {},
   "outputs": [
    {
     "data": {
      "text/plain": [
       "43"
      ]
     },
     "execution_count": 3,
     "metadata": {},
     "output_type": "execute_result"
    }
   ],
   "source": [
    "for f in files:\n",
    "    newcont1.append((open(f).read()).replace('\\n', ' '))\n",
    "    content = open(f).read()\n",
    "    content = content.replace('\\n', ' ')\n",
    "    c=content.split()\n",
    "    for i in c:\n",
    "        newcont.append(i)\n",
    "    newst=\" \".join(newcont)\n",
    "    wordli=list(set(map(lambda x : str((re.sub('\\W+ \\w+','', x) ).lower()),newcont)))\n",
    "    if len(wf)==0:\n",
    "        wf={k:newst.count(k) for k in wordli}\n",
    "    else:\n",
    "        for i in wordli:\n",
    "            if i in wf.keys():\n",
    "                wf[i]+=newst.count(i)\n",
    "            else:\n",
    "                wf[i]=newst.count(i)\n",
    "                \n",
    "len(wf)"
   ]
  },
  {
   "cell_type": "code",
   "execution_count": 4,
   "metadata": {},
   "outputs": [
    {
     "data": {
      "text/plain": [
       "{'a': 9,\n",
       " 'am': 5,\n",
       " 'and': 1,\n",
       " 'aswin': 0,\n",
       " 'but': 0,\n",
       " 'bye': 0,\n",
       " 'clue': 1,\n",
       " 'development': 1,\n",
       " 'doing': 1,\n",
       " 'file': 1,\n",
       " 'find': 1,\n",
       " 'good': 0,\n",
       " 'hard': 1,\n",
       " 'have': 1,\n",
       " 'hello': 0,\n",
       " 'help': 1,\n",
       " 'how': 1,\n",
       " 'i': 19,\n",
       " 'in': 7,\n",
       " 'is': 6,\n",
       " 'just': 2,\n",
       " 'me': 5,\n",
       " 'my': 3,\n",
       " 'name': 2,\n",
       " 'new': 1,\n",
       " 'no': 1,\n",
       " 'of': 1,\n",
       " 'on': 1,\n",
       " 'passing': 2,\n",
       " 'project': 1,\n",
       " 'relevance': 1,\n",
       " 'seeing': 2,\n",
       " 'skill': 1,\n",
       " 'so': 1,\n",
       " 'the': 1,\n",
       " 'this': 2,\n",
       " 'through': 2,\n",
       " 'to': 3,\n",
       " 'welcome': 0,\n",
       " 'will': 1,\n",
       " 'working': 1,\n",
       " 'world': 4,\n",
       " 'you': 2}"
      ]
     },
     "execution_count": 4,
     "metadata": {},
     "output_type": "execute_result"
    }
   ],
   "source": [
    "wf"
   ]
  },
  {
   "cell_type": "code",
   "execution_count": 5,
   "metadata": {},
   "outputs": [
    {
     "name": "stdout",
     "output_type": "stream",
     "text": [
      "43\n"
     ]
    }
   ],
   "source": [
    "wordli=wf.keys()\n",
    "wordli=list(set(wordli))\n",
    "#wordli.remove(' ')\n",
    "print(len(wordli))"
   ]
  },
  {
   "cell_type": "code",
   "execution_count": 6,
   "metadata": {},
   "outputs": [
    {
     "data": {
      "text/html": [
       "<div>\n",
       "<style>\n",
       "    .dataframe thead tr:only-child th {\n",
       "        text-align: right;\n",
       "    }\n",
       "\n",
       "    .dataframe thead th {\n",
       "        text-align: left;\n",
       "    }\n",
       "\n",
       "    .dataframe tbody tr th {\n",
       "        vertical-align: top;\n",
       "    }\n",
       "</style>\n",
       "<table border=\"1\" class=\"dataframe\">\n",
       "  <thead>\n",
       "    <tr style=\"text-align: right;\">\n",
       "      <th></th>\n",
       "      <th>sentences</th>\n",
       "    </tr>\n",
       "  </thead>\n",
       "  <tbody>\n",
       "    <tr>\n",
       "      <th>0</th>\n",
       "      <td>Hello world My name is Aswin  Welcome to my wo...</td>\n",
       "    </tr>\n",
       "    <tr>\n",
       "      <th>1</th>\n",
       "      <td>This is a new file and I am working so hard to...</td>\n",
       "    </tr>\n",
       "  </tbody>\n",
       "</table>\n",
       "</div>"
      ],
      "text/plain": [
       "                                           sentences\n",
       "0  Hello world My name is Aswin  Welcome to my wo...\n",
       "1  This is a new file and I am working so hard to..."
      ]
     },
     "execution_count": 6,
     "metadata": {},
     "output_type": "execute_result"
    }
   ],
   "source": [
    "df = pd.DataFrame(data=newcont1, columns=['sentences'])\n",
    "df"
   ]
  },
  {
   "cell_type": "code",
   "execution_count": 7,
   "metadata": {},
   "outputs": [
    {
     "data": {
      "text/plain": [
       "CountVectorizer(analyzer='word', binary=False, decode_error='strict',\n",
       "        dtype=<class 'numpy.int64'>, encoding='utf-8', input='content',\n",
       "        lowercase=True, max_df=1.0, max_features=None, min_df=0,\n",
       "        ngram_range=(1, 1), preprocessor=None, stop_words=frozenset(),\n",
       "        strip_accents=None, token_pattern='(?u)\\\\b\\\\w+\\\\b', tokenizer=None,\n",
       "        vocabulary=['no', 'my', 'project', 'aswin', 'so', 'bye', 'a', 'new', 'to', 'welcome', 'me', 'hello', 'working', 'on', 'skill', 'doing', 'this', 'file', 'seeing', 'clue', 'but', 'of', 'is', 'through', 'you', 'am', 'passing', 'relevance', 'have', 'good', 'will', 'hard', 'i', 'just', 'find', 'in', 'name', 'world', 'how', 'development', 'and', 'the', 'help'])"
      ]
     },
     "execution_count": 7,
     "metadata": {},
     "output_type": "execute_result"
    }
   ],
   "source": [
    "vectorizer = CountVectorizer(vocabulary=wordli, min_df=0,\n",
    "                             stop_words=frozenset(), token_pattern=r\"(?u)\\b\\w+\\b\")\n",
    "vectorizer"
   ]
  },
  {
   "cell_type": "code",
   "execution_count": 8,
   "metadata": {},
   "outputs": [
    {
     "data": {
      "text/plain": [
       "<2x43 sparse matrix of type '<class 'numpy.int64'>'\n",
       "\twith 48 stored elements in Compressed Sparse Row format>"
      ]
     },
     "execution_count": 8,
     "metadata": {},
     "output_type": "execute_result"
    }
   ],
   "source": [
    "X = vectorizer.fit_transform(df['sentences'].values)\n",
    "X"
   ]
  },
  {
   "cell_type": "code",
   "execution_count": 9,
   "metadata": {},
   "outputs": [],
   "source": [
    "result = pd.DataFrame(data=X.toarray(), columns=vectorizer.get_feature_names())\n",
    "result.to_csv('matrix.csv')"
   ]
  },
  {
   "cell_type": "code",
   "execution_count": 10,
   "metadata": {},
   "outputs": [
    {
     "data": {
      "text/html": [
       "<div>\n",
       "<style>\n",
       "    .dataframe thead tr:only-child th {\n",
       "        text-align: right;\n",
       "    }\n",
       "\n",
       "    .dataframe thead th {\n",
       "        text-align: left;\n",
       "    }\n",
       "\n",
       "    .dataframe tbody tr th {\n",
       "        vertical-align: top;\n",
       "    }\n",
       "</style>\n",
       "<table border=\"1\" class=\"dataframe\">\n",
       "  <thead>\n",
       "    <tr style=\"text-align: right;\">\n",
       "      <th></th>\n",
       "      <th>no</th>\n",
       "      <th>my</th>\n",
       "      <th>project</th>\n",
       "      <th>aswin</th>\n",
       "      <th>so</th>\n",
       "      <th>bye</th>\n",
       "      <th>a</th>\n",
       "      <th>new</th>\n",
       "      <th>to</th>\n",
       "      <th>welcome</th>\n",
       "      <th>...</th>\n",
       "      <th>just</th>\n",
       "      <th>find</th>\n",
       "      <th>in</th>\n",
       "      <th>name</th>\n",
       "      <th>world</th>\n",
       "      <th>how</th>\n",
       "      <th>development</th>\n",
       "      <th>and</th>\n",
       "      <th>the</th>\n",
       "      <th>help</th>\n",
       "    </tr>\n",
       "  </thead>\n",
       "  <tbody>\n",
       "    <tr>\n",
       "      <th>0</th>\n",
       "      <td>0</td>\n",
       "      <td>2</td>\n",
       "      <td>0</td>\n",
       "      <td>1</td>\n",
       "      <td>0</td>\n",
       "      <td>1</td>\n",
       "      <td>0</td>\n",
       "      <td>0</td>\n",
       "      <td>1</td>\n",
       "      <td>1</td>\n",
       "      <td>...</td>\n",
       "      <td>1</td>\n",
       "      <td>0</td>\n",
       "      <td>0</td>\n",
       "      <td>1</td>\n",
       "      <td>2</td>\n",
       "      <td>0</td>\n",
       "      <td>0</td>\n",
       "      <td>0</td>\n",
       "      <td>0</td>\n",
       "      <td>0</td>\n",
       "    </tr>\n",
       "    <tr>\n",
       "      <th>1</th>\n",
       "      <td>1</td>\n",
       "      <td>1</td>\n",
       "      <td>1</td>\n",
       "      <td>0</td>\n",
       "      <td>1</td>\n",
       "      <td>0</td>\n",
       "      <td>1</td>\n",
       "      <td>1</td>\n",
       "      <td>1</td>\n",
       "      <td>0</td>\n",
       "      <td>...</td>\n",
       "      <td>0</td>\n",
       "      <td>1</td>\n",
       "      <td>1</td>\n",
       "      <td>0</td>\n",
       "      <td>0</td>\n",
       "      <td>1</td>\n",
       "      <td>1</td>\n",
       "      <td>1</td>\n",
       "      <td>1</td>\n",
       "      <td>1</td>\n",
       "    </tr>\n",
       "  </tbody>\n",
       "</table>\n",
       "<p>2 rows × 43 columns</p>\n",
       "</div>"
      ],
      "text/plain": [
       "   no  my  project  aswin  so  bye  a  new  to  welcome  ...   just  find  in  \\\n",
       "0   0   2        0      1   0    1  0    0   1        1  ...      1     0   0   \n",
       "1   1   1        1      0   1    0  1    1   1        0  ...      0     1   1   \n",
       "\n",
       "   name  world  how  development  and  the  help  \n",
       "0     1      2    0            0    0    0     0  \n",
       "1     0      0    1            1    1    1     1  \n",
       "\n",
       "[2 rows x 43 columns]"
      ]
     },
     "execution_count": 10,
     "metadata": {},
     "output_type": "execute_result"
    }
   ],
   "source": [
    "result"
   ]
  }
 ],
 "metadata": {
  "kernelspec": {
   "display_name": "Python 3",
   "language": "python",
   "name": "python3"
  },
  "language_info": {
   "codemirror_mode": {
    "name": "ipython",
    "version": 3
   },
   "file_extension": ".py",
   "mimetype": "text/x-python",
   "name": "python",
   "nbconvert_exporter": "python",
   "pygments_lexer": "ipython3",
   "version": "3.6.3"
  }
 },
 "nbformat": 4,
 "nbformat_minor": 2
}
